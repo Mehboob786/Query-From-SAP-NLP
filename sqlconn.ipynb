{
 "cells": [
  {
   "cell_type": "code",
   "execution_count": 29,
   "metadata": {},
   "outputs": [],
   "source": [
    "import os\n",
    "from urllib.parse import quote_plus\n",
    "# Create SQLAlchemy engine\n",
    "from sqlalchemy import create_engine\n",
    "\n",
    "db_user = os.environ.get(\"db_user\")\n",
    "db_password = os.environ.get(\"db_password\")\n",
    "db_host = os.environ.get(\"db_host\")\n",
    "db_name = os.environ.get(\"db_name\")\n",
    "connection_string = f'mssql+pymssql://{db_user}:{quote_plus(db_password)}@{db_host}/{db_name}'\n",
    "\n",
    "#connection_string = f'mssql+pymssql://{db_user}:{db_password}@{db_host}/{db_name}?driver=ODBC+Driver+17+for+SQL+Server'\n",
    "\n",
    "\n",
    "\n",
    "engine = create_engine(connection_string)\n",
    "connection = engine.connect()\n",
    "#db_password = quote_plus(db_password)\n"
   ]
  },
  {
   "cell_type": "code",
   "execution_count": 30,
   "metadata": {},
   "outputs": [
    {
     "name": "stdout",
     "output_type": "stream",
     "text": [
      "   DocEntry  DocNum CardCode       CardName    DocDate  DocTotal ItemCode  \\\n",
      "0         1       1   C20000  Norm Thompson 2011-01-10   18562.5   A00001   \n",
      "1         1       1   C20000  Norm Thompson 2011-01-10   18562.5   A00002   \n",
      "2         1       1   C20000  Norm Thompson 2011-01-10   18562.5   A00003   \n",
      "3         1       1   C20000  Norm Thompson 2011-01-10   18562.5   A00004   \n",
      "4         1       1   C20000  Norm Thompson 2011-01-10   18562.5   A00005   \n",
      "\n",
      "             Dscription  Quantity  Price  LineTotal  \n",
      "0    IBM Infoprint 1312       5.0  750.0     3750.0  \n",
      "1    IBM Infoprint 1222       5.0  375.0     1875.0  \n",
      "2    IBM Infoprint 1226       5.0  562.5     2812.5  \n",
      "3  HP Color Laser Jet 5       5.0  937.5     4687.5  \n",
      "4  HP Color Laser Jet 4       5.0  750.0     3750.0  \n"
     ]
    }
   ],
   "source": [
    "# Execute query and return results as DataFrame\n",
    "from pandas import read_sql_query\n",
    "\n",
    "\n",
    "result = read_sql_query(\"SELECT T0.DocEntry, T0.DocNum, T0.CardCode, T0.CardName, T0.DocDate, T0.DocTotal, T1.ItemCode, T1.Dscription, T1.Quantity, T1.Price, T1.LineTotal FROM ORDR T0 INNER JOIN RDR1 T1 ON T0.DocEntry = T1.DocEntry WHERE T0.DocEntry = 1;\", connection)\n",
    "connection.close()\n",
    "print(result)"
   ]
  },
  {
   "cell_type": "code",
   "execution_count": 21,
   "metadata": {},
   "outputs": [
    {
     "ename": "Error",
     "evalue": "('HY000', '[HY000] [Microsoft][ODBC Driver 17 for SQL Server]Connection is busy with results for another command (0) (SQLExecDirectW)')",
     "output_type": "error",
     "traceback": [
      "\u001b[0;31m---------------------------------------------------------------------------\u001b[0m",
      "\u001b[0;31mError\u001b[0m                                     Traceback (most recent call last)",
      "Cell \u001b[0;32mIn[21], line 4\u001b[0m\n\u001b[1;32m      1\u001b[0m cursor \u001b[38;5;241m=\u001b[39m conn\u001b[38;5;241m.\u001b[39mcursor()\n\u001b[1;32m      3\u001b[0m \u001b[38;5;28;01mtry\u001b[39;00m:\n\u001b[0;32m----> 4\u001b[0m     \u001b[43mcursor\u001b[49m\u001b[38;5;241;43m.\u001b[39;49m\u001b[43mexecute\u001b[49m\u001b[43m(\u001b[49m\u001b[38;5;124;43m\"\u001b[39;49m\u001b[38;5;124;43mSELECT T0.DocNum, T0.DocDate, T1.ItemCode, T1.Dscription, T1.Quantity, T1.Price, T1.LineTotal FROM OPOR T0 INNER JOIN POR1 T1 ON T0.DocEntry = T1.DocEntry WHERE T0.DocDate >= DATEADD(MONTH, -1, GETDATE())\u001b[39;49m\u001b[38;5;124;43m\"\u001b[39;49m\u001b[43m)\u001b[49m\n\u001b[1;32m      6\u001b[0m     \u001b[38;5;66;03m# Fetch and print the results\u001b[39;00m\n\u001b[1;32m      7\u001b[0m     \u001b[38;5;28;01mfor\u001b[39;00m row \u001b[38;5;129;01min\u001b[39;00m cursor\u001b[38;5;241m.\u001b[39mfetchall():\n",
      "\u001b[0;31mError\u001b[0m: ('HY000', '[HY000] [Microsoft][ODBC Driver 17 for SQL Server]Connection is busy with results for another command (0) (SQLExecDirectW)')"
     ]
    }
   ],
   "source": [
    "\n",
    "cursor = conn.cursor()\n",
    "\n",
    "try:\n",
    "    cursor.execute(\"SELECT T0.DocNum, T0.DocDate, T1.ItemCode, T1.Dscription, T1.Quantity, T1.Price, T1.LineTotal FROM OPOR T0 INNER JOIN POR1 T1 ON T0.DocEntry = T1.DocEntry WHERE T0.DocDate >= DATEADD(MONTH, -1, GETDATE())\")\n",
    "\n",
    "    # Fetch and print the results\n",
    "    for row in cursor.fetchall():\n",
    "        print(row)\n",
    "\n",
    "    # Optionally, if you don't need to fetch the results, you can consume them or cancel\n",
    "    # cursor.fetchall() or cursor.cancel()\n",
    "\n",
    "finally:\n",
    "    cursor.close()  # Ensure the cursor is closed when done\n"
   ]
  }
 ],
 "metadata": {
  "kernelspec": {
   "display_name": ".venv",
   "language": "python",
   "name": "python3"
  },
  "language_info": {
   "codemirror_mode": {
    "name": "ipython",
    "version": 3
   },
   "file_extension": ".py",
   "mimetype": "text/x-python",
   "name": "python",
   "nbconvert_exporter": "python",
   "pygments_lexer": "ipython3",
   "version": "3.12.2"
  }
 },
 "nbformat": 4,
 "nbformat_minor": 2
}
